{
  "nbformat": 4,
  "nbformat_minor": 0,
  "metadata": {
    "colab": {
      "provenance": []
    },
    "kernelspec": {
      "name": "python3",
      "display_name": "Python 3"
    },
    "language_info": {
      "name": "python"
    }
  },
  "cells": [
    {
      "cell_type": "markdown",
      "source": [
        "#OOPS"
      ],
      "metadata": {
        "id": "M9F7sHDxT_k8"
      }
    },
    {
      "cell_type": "markdown",
      "source": [
        " 1.What is Object-Oriented Programming (OOP)?\n",
        " -> Object-Oriented Programming (OOP) is a way of writing programs using **objects**. Objects are like real-world things (e.g., a car, a phone) that have **data (attributes)** and **actions (methods)**.  \n",
        "\n",
        "*Key Ideas of OOP:*  \n",
        "1. **Encapsulation** – Keeping data safe inside objects.  \n",
        "2. **Abstraction** – Hiding unnecessary details.  \n",
        "3. **Inheritance** – Reusing features from another object.  \n",
        "4. **Polymorphism** – Using the same action in different ways.  "
      ],
      "metadata": {
        "id": "hEAhYzh6UGLd"
      }
    },
    {
      "cell_type": "markdown",
      "source": [
        "2. What is a class in OOP?\n",
        "-> A **class** in Object-Oriented Programming (OOP) is a **blueprint** or **template** for creating objects. It defines **attributes (data)** and **methods (functions)** that objects will have.  \n",
        "\n",
        " Example:  \n",
        "If we want to create multiple cars, we define a **Car** class:  \n",
        "```python\n",
        "class Car:\n",
        "    def __init__(self, brand, color):\n",
        "        self.brand = brand  # Attribute\n",
        "        self.color = color  # Attribute\n",
        "\n",
        "    def start(self):\n",
        "        print(f\"{self.brand} car is starting\")  # Method\n",
        "\n",
        "# Creating objects from the class\n",
        "car1 = Car(\"Tesla\", \"Red\")\n",
        "car2 = Car(\"BMW\", \"Blue\")\n",
        "```\n",
        "Here, **Car** is a class, and **car1, car2** are objects created from it.  \n",
        "\n",
        "📌 **Key point**: A class is like a **blueprint**, and objects are the actual **things** made from it!"
      ],
      "metadata": {
        "id": "HO0eoLEUUhhd"
      }
    },
    {
      "cell_type": "markdown",
      "source": [
        "3.  What is an object in OOP?\n",
        "-> An **object** in Object-Oriented Programming (OOP) is an **instance** of a class. It represents a real-world entity with **attributes (data)** and **methods (functions)**.  \n",
        "\n",
        " Example:  \n",
        "If **Car** is a class, then:  \n",
        "```python\n",
        "class Car:\n",
        "    def __init__(self, brand, color):\n",
        "        self.brand = brand  # Attribute\n",
        "        self.color = color  # Attribute\n",
        "\n",
        "    def start(self):\n",
        "        print(f\"{self.brand} car is starting\")  # Method\n",
        "\n",
        "# Creating objects\n",
        "car1 = Car(\"Tesla\", \"Red\")\n",
        "car2 = Car(\"BMW\", \"Blue\")\n",
        "\n",
        "car1.start()  # Output: Tesla car is starting\n",
        "car2.start()  # Output: BMW car is starting\n",
        "```\n",
        "Here, `car1` and `car2` are **objects** of the `Car` class.  \n",
        "\n",
        " **Key point**: An object is a **real-world representation** of a class!"
      ],
      "metadata": {
        "id": "d74NWQgbU14d"
      }
    },
    {
      "cell_type": "markdown",
      "source": [
        "4. What is the difference between abstraction and encapsulation?\n",
        "->  **Difference Between Abstraction and Encapsulation**  \n",
        "\n",
        "| Feature          | **Abstraction**  | **Encapsulation**  |\n",
        "|-----------------|-----------------|-----------------|\n",
        "| **Meaning**      | Hides unnecessary details and shows only essential features. | Wraps data and methods together and restricts direct access. |\n",
        "| **Purpose**      | Focuses on **what** an object does. | Focuses on **how** data is protected. |\n",
        "| **Implementation** | Achieved using **abstract classes** and **interfaces**. | Achieved using **access modifiers** (private, public, protected). |\n",
        "| **Example**      | A **car driver** only sees the steering, not the engine workings. | The **engine** of a car is hidden inside a cover to protect it. |\n",
        "\n",
        " **Key point**:  \n",
        "- **Abstraction** simplifies usage.  \n",
        "- **Encapsulation** ensures security."
      ],
      "metadata": {
        "id": "lVxcVKH0VbvR"
      }
    },
    {
      "cell_type": "markdown",
      "source": [
        "5. What are dunder methods in Python?\n",
        "->  **Dunder Methods in Python**  \n",
        "Dunder (Double Underscore) methods, also called **magic methods**, are special methods that start and end with **double underscores (`__`)**. They allow objects to behave like built-in types.  \n",
        "\n",
        " **Common Dunder Methods**  \n",
        "- `__init__` → Initializes objects (constructor)  \n",
        "- `__str__` → Returns a user-friendly string  \n",
        "- `__repr__` → Returns an official string representation  \n",
        "- `__len__` → Defines behavior for `len()`  \n",
        "- `__add__` → Defines behavior for `+` operator  \n",
        "\n",
        " **Example:**\n",
        "```python\n",
        "class Person:\n",
        "    def __init__(self, name):\n",
        "        self.name = name\n",
        "\n",
        "    def __str__(self):\n",
        "        return f\"Person: {self.name}\"\n",
        "\n",
        "p = Person(\"Alice\")\n",
        "print(p)  # Calls __str__: Output -> Person: Alice\n",
        "```\n",
        " **Key Point**: Dunder methods help objects work smoothly with built-in functions like `print()`, `len()`, and operators!"
      ],
      "metadata": {
        "id": "3_fWi1ugYVdk"
      }
    },
    {
      "cell_type": "markdown",
      "source": [
        "6. Explain the concept of inheritance in OOP.\n",
        "-> Inheritance in Object-Oriented Programming (OOP) allows one class (child class) to inherit properties and behaviors (methods) from another class (parent class). It helps in code reusability and hierarchical relationships.  \n",
        "\n",
        " Example:  \n",
        "```python\n",
        "class Animal:  # Parent class\n",
        "    def make_sound(self):\n",
        "        print(\"Animal makes a sound\")\n",
        "\n",
        "class Dog(Animal):  # Child class\n",
        "    def bark(self):\n",
        "        print(\"Dog barks\")\n",
        "\n",
        "# Creating an object of Dog class\n",
        "dog = Dog()\n",
        "dog.make_sound()  # Inherited method\n",
        "dog.bark()        # Own method\n",
        "```\n",
        "\n",
        " Key Points:\n",
        "- **Parent Class (Base Class)**: The class whose properties are inherited.  \n",
        "- **Child Class (Derived Class)**: The class that inherits from another class.  \n",
        "- **Types**: Single, Multiple, Multilevel, Hierarchical, and Hybrid Inheritance.  \n",
        "\n"
      ],
      "metadata": {
        "id": "ClSZjNTibj_t"
      }
    },
    {
      "cell_type": "markdown",
      "source": [
        "7. What is polymorphism in OOP?\n",
        "-> Polymorphism in Object-Oriented Programming (OOP) means **\"one interface, multiple implementations.\"** It allows objects of different classes to be treated as objects of a common base class, enabling flexibility and reusability.  \n",
        "\n",
        " Types of Polymorphism:\n",
        "1. **Method Overriding (Runtime Polymorphism)** – A child class provides a specific implementation of a method already defined in the parent class.  \n",
        "2. **Method Overloading (Compile-time Polymorphism)** – Multiple methods with the same name but different parameters exist in the same class (not supported in Python directly).  \n",
        "\n",
        "### Example:\n",
        "```python\n",
        "class Animal:\n",
        "    def make_sound(self):\n",
        "        print(\"Animal makes a sound\")\n",
        "\n",
        "class Dog(Animal):\n",
        "    def make_sound(self):  \n",
        "        print(\"Dog barks\")\n",
        "\n",
        "animals = [Animal(), Dog()]\n",
        "for a in animals:\n",
        "    a.make_sound()  \n",
        "```\n",
        "\n"
      ],
      "metadata": {
        "id": "lvn5MEU2l-r5"
      }
    },
    {
      "cell_type": "markdown",
      "source": [
        "8. How is encapsulation achieved in Python?\n",
        "-> Encapsulation in Python is achieved by **restricting direct access to class attributes** and **controlling modifications** using access specifiers. It helps in **data hiding** and ensures security.  \n",
        "\n",
        " How to Achieve Encapsulation?  \n",
        "1. **Private Members**: Use **double underscores (`__`)** to make variables/methods private.  \n",
        "2. **Protected Members**: Use **single underscore (`_`)** to indicate restricted access.  \n",
        "3. **Getter and Setter Methods**: Control access to private variables.\n",
        "\n",
        "### Example:\n",
        "```python\n",
        "class BankAccount:\n",
        "    def __init__(self, balance):\n",
        "        self.__balance = balance  # Private variable\n",
        "\n",
        "    def deposit(self, amount):\n",
        "        self.__balance += amount\n",
        "\n",
        "    def get_balance(self):  # Getter method\n",
        "        return self.__balance\n",
        "\n",
        "# Creating an object\n",
        "account = BankAccount(1000)\n",
        "account.deposit(500)\n",
        "print(account.get_balance())  # ✅ Accessible via method\n",
        "# print(account.__balance)  # ❌ Will raise an AttributeError\n",
        "```\n",
        "\n"
      ],
      "metadata": {
        "id": "iWD2s3JQmi9o"
      }
    },
    {
      "cell_type": "markdown",
      "source": [
        "9. What is a constructor in Python?\n",
        "-> A **constructor** in Python is a special method called **`__init__()`** that automatically executes when an object of a class is created. It is used to **initialize object attributes**.  \n",
        "\n",
        "### Example:\n",
        "```python\n",
        "class Person:\n",
        "    def __init__(self, name, age):  # Constructor\n",
        "        self.name = name\n",
        "        self.age = age\n",
        "\n",
        "    def show(self):\n",
        "        print(f\"Name: {self.name}, Age: {self.age}\")\n",
        "\n",
        "# Creating an object\n",
        "p = Person(\"Alice\", 25)\n",
        "p.show()\n",
        "```\n",
        "\n",
        " Key Points:\n",
        "- **Called automatically when an object is created.**  \n",
        "- **Used for initializing attributes.**  \n",
        "- **Defined using `def __init__(self, args)`.**  \n",
        "\n"
      ],
      "metadata": {
        "id": "CCyFNm0jnfSH"
      }
    },
    {
      "cell_type": "markdown",
      "source": [
        "10. What are class and static methods in Python?\n",
        "->  **Class Method vs Static Method in Python**  \n",
        "\n",
        "Both are special methods in Python used to modify class behavior but have key differences.  \n",
        "\n",
        " **1. Class Method (`@classmethod`)**  \n",
        "- Works with the **class itself** instead of instances.  \n",
        "- Uses **`cls`** as the first parameter to access class variables/methods.  \n",
        "\n",
        "**Example:**  \n",
        "```python\n",
        "class Student:\n",
        "    school = \"ABC School\"\n",
        "\n",
        "    @classmethod\n",
        "    def change_school(cls, new_school):\n",
        "        cls.school = new_school\n",
        "\n",
        "print(Student.school)  # ABC School\n",
        "Student.change_school(\"XYZ School\")\n",
        "print(Student.school)  # XYZ School\n",
        "```\n",
        "\n",
        " **2. Static Method (`@staticmethod`)**  \n",
        "- **Does not use `self` or `cls`** (No access to instance or class).  \n",
        "- Used for utility/helper functions inside a class.  \n",
        "\n",
        "**Example:**  \n",
        "```python\n",
        "class MathOperations:\n",
        "    @staticmethod\n",
        "    def add(a, b):\n",
        "        return a + b\n",
        "\n",
        "print(MathOperations.add(5, 3))  # 8\n",
        "```\n",
        "\n",
        "### **Key Differences:**\n",
        "| Feature         | Class Method (@classmethod) | Static Method (@staticmethod) |\n",
        "|---------------|-------------------------|-----------------------|\n",
        "| Works with    | Class (`cls`)            | Neither instance nor class |\n",
        "| Accesses      | Class variables/methods  | Independent logic |\n",
        "| Use Case      | Modify class attributes  | Utility/helper functions |\n",
        "\n"
      ],
      "metadata": {
        "id": "Sg5xiRHkn4Ek"
      }
    },
    {
      "cell_type": "markdown",
      "source": [
        "11.  What is method overloading in Python?\n",
        "-> **Method Overloading in Python (Compile-time Polymorphism)**  \n",
        "Method overloading allows multiple methods in the same class with the **same name but different parameters**. However, **Python does not support true method overloading** like Java or C++. Instead, it can be achieved using **default arguments or `*args` and `**kwargs`**.  \n",
        "\n",
        "### **Example Using Default Arguments:**\n",
        "```python\n",
        "class MathOperations:\n",
        "    def add(self, a, b=0, c=0):  # Default values allow overloading effect\n",
        "        return a + b + c\n",
        "\n",
        "obj = MathOperations()\n",
        "print(obj.add(5))        # 5 (uses only one argument)\n",
        "print(obj.add(5, 10))    # 15 (uses two arguments)\n",
        "print(obj.add(5, 10, 15)) # 30 (uses three arguments)\n",
        "```\n",
        "\n",
        "### **Example Using `*args`:**\n",
        "```python\n",
        "class MathOperations:\n",
        "    def add(self, *args):\n",
        "        return sum(args)\n",
        "\n",
        "obj = MathOperations()\n",
        "print(obj.add(5))         # 5\n",
        "print(obj.add(5, 10))     # 15\n",
        "print(obj.add(5, 10, 15)) # 30\n",
        "```\n",
        "\n",
        " **Key Points:**\n",
        "- **Python does not support method overloading directly.**\n",
        "- Achieved using **default parameters** or **`*args` and `**kwargs`**.\n",
        "- Helps in **handling multiple argument variations** flexibly."
      ],
      "metadata": {
        "id": "_hL9x9kSoZYQ"
      }
    },
    {
      "cell_type": "markdown",
      "source": [
        "12. What is method overriding in OOP?\n",
        "->  **Method Overriding in OOP (Runtime Polymorphism)**  \n",
        "Method overriding occurs when a **child class provides a specific implementation** of a method that is already defined in the **parent class**. It allows a subclass to modify inherited behavior.  \n",
        "\n",
        "### **Example:**\n",
        "```python\n",
        "class Animal:\n",
        "    def make_sound(self):\n",
        "        print(\"Animal makes a sound\")\n",
        "\n",
        "class Dog(Animal):\n",
        "    def make_sound(self):  # Overriding parent method\n",
        "        print(\"Dog barks\")\n",
        "\n",
        "# Creating objects\n",
        "a = Animal()\n",
        "d = Dog()\n",
        "\n",
        "a.make_sound()  # Output: Animal makes a sound\n",
        "d.make_sound()  # Output: Dog barks (Overridden method)\n",
        "```\n",
        "\n",
        " **Key Points:**\n",
        "- **Same method name, same parameters, but different behavior in child class.**  \n",
        "- **Achieved in inheritance (Parent → Child class).**  \n",
        "- **Supports runtime polymorphism, making code more flexible.**"
      ],
      "metadata": {
        "id": "yn2oQ4gCrDkq"
      }
    },
    {
      "cell_type": "markdown",
      "source": [
        "13.  What is a property decorator in Python?\n",
        "->  **Property Decorator (`@property`) in Python**  \n",
        "The `@property` decorator allows you to **access a method like an attribute**. It is used to **control access** to a class variable.  \n",
        "\n",
        "### **Example:**  \n",
        "```python\n",
        "class Student:\n",
        "    def __init__(self, marks):\n",
        "        self._marks = marks  # Private variable\n",
        "\n",
        "    @property\n",
        "    def marks(self):  # Getter method\n",
        "        return self._marks\n",
        "\n",
        "    @marks.setter\n",
        "    def marks(self, value):  # Setter method\n",
        "        if value >= 0:\n",
        "            self._marks = value\n",
        "        else:\n",
        "            print(\"Marks cannot be negative!\")\n",
        "\n",
        "# Creating an object\n",
        "s = Student(85)\n",
        "print(s.marks)  #  Access like an attribute\n",
        "\n",
        "s.marks = 90    #  Update value\n",
        "print(s.marks)\n",
        "\n",
        "s.marks = -10   #  Prints \"Marks cannot be negative!\"\n",
        "```\n",
        "\n",
        " **Key Points:**\n",
        "- `@property` **(Getter)** → Allows access like an attribute.  \n",
        "- `@marks.setter` **(Setter)** → Controls updates to the variable.  \n",
        "\n"
      ],
      "metadata": {
        "id": "ykYAWDM2reBH"
      }
    },
    {
      "cell_type": "markdown",
      "source": [
        "14. Why is polymorphism important in OOP?\n",
        "->  **Importance of Polymorphism in OOP**  \n",
        "Polymorphism allows **one interface, multiple implementations**, making code **flexible, reusable, and scalable**.  \n",
        "\n",
        " **Why is it Important?**  \n",
        "1. **Code Reusability** – The same function/method works for different data types.  \n",
        "2. **Flexibility** – A single function name can work differently in different classes.  \n",
        "3. **Easier Maintenance** – Reduces duplicate code and improves readability.  \n",
        "4. **Supports Dynamic Behavior** – Helps in **method overriding** for runtime changes.  \n",
        "5. **Encourages Loose Coupling** – Works with different objects using a common interface.  \n",
        "\n",
        "### **Example:**  \n",
        "```python\n",
        "class Animal:\n",
        "    def make_sound(self):\n",
        "        print(\"Animal makes a sound\")\n",
        "\n",
        "class Dog(Animal):\n",
        "    def make_sound(self):  # Overriding method\n",
        "        print(\"Dog barks\")\n",
        "\n",
        "# Polymorphism in action\n",
        "animals = [Animal(), Dog()]\n",
        "for a in animals:\n",
        "    a.make_sound()  # Calls the correct method dynamically\n",
        "```\n",
        "\n",
        " **Conclusion:**  \n",
        "Polymorphism makes **OOP more powerful** by improving **code efficiency, organization, and flexibility**!"
      ],
      "metadata": {
        "id": "n-mLlAnMu6Zw"
      }
    },
    {
      "cell_type": "markdown",
      "source": [
        "15. What is an abstract class in Python?\n",
        "->  **Abstract Class in Python**  \n",
        "An **abstract class** is a class that **cannot be instantiated** and contains **abstract methods** that must be implemented in child classes.  \n",
        "\n",
        "### **Example:**  \n",
        "```python\n",
        "from abc import ABC, abstractmethod\n",
        "\n",
        "class Animal(ABC):  \n",
        "    @abstractmethod\n",
        "    def make_sound(self):  \n",
        "        pass  \n",
        "\n",
        "class Dog(Animal):  \n",
        "    def make_sound(self):  \n",
        "        print(\"Dog barks\")\n",
        "\n",
        "dog = Dog()\n",
        "dog.make_sound()  # Output: Dog barks\n",
        "```\n",
        "\n",
        " **Key Points:**  \n",
        "- **Defined using `ABC` (Abstract Base Class).**  \n",
        "- **Contains `@abstractmethod`, which must be overridden.**  \n",
        "- **Ensures all child classes follow a structure.**  \n",
        "\n",
        "Used for **code consistency** and **design enforcement**!"
      ],
      "metadata": {
        "id": "rcDgGDkHv5uc"
      }
    },
    {
      "cell_type": "markdown",
      "source": [
        "16.What are the advantages of OOP?\n",
        "\n",
        "-> The advantages of Object-Oriented Programming (OOP) are:  \n",
        "\n",
        "i. **Reusability** – Code can be reused through inheritance.  \n",
        "ii. **Modularity** – Programs are divided into objects, making them easier to manage.  \n",
        "iii. **Encapsulation** – Data is protected from unintended modifications.  \n",
        "iv. **Abstraction** – Only essential details are exposed, hiding complexity.  \n",
        "v. **Polymorphism** – A single function can work in different ways.  \n",
        "vi. **Scalability** – Easy to add new features without affecting existing code.  \n",
        "vii. **Maintainability** – Code is easier to update and debug."
      ],
      "metadata": {
        "id": "BbRUr5Rfv5hR"
      }
    },
    {
      "cell_type": "markdown",
      "source": [
        "17. What is the difference between a class variable and an instance variable?\n",
        "-> The difference between **class variables** and **instance variables**:  \n",
        "\n",
        " **Class Variable**  \n",
        "- Shared by all objects of a class.  \n",
        "- Defined inside the class but outside methods.  \n",
        "- Changing it affects all instances.  \n",
        "- Accessed using `ClassName.variable_name` or `self.variable_name`.  \n",
        "\n",
        " **Instance Variable**  \n",
        "- Unique to each object (instance).  \n",
        "- Defined inside the `__init__()` method using `self`.  \n",
        "- Changing it affects only that specific object.  \n",
        "- Accessed using `self.variable_name`.  \n",
        "\n",
        "### **Example:**\n",
        "```python\n",
        "class Car:\n",
        "    wheels = 4  # Class variable (shared by all instances)\n",
        "\n",
        "    def __init__(self, color):\n",
        "        self.color = color  # Instance variable (unique to each object)\n",
        "\n",
        "car1 = Car(\"Red\")\n",
        "car2 = Car(\"Blue\")\n",
        "\n",
        "print(car1.wheels, car1.color)  # Output: 4 Red\n",
        "print(car2.wheels, car2.color)  # Output: 4 Blue\n",
        "\n",
        "Car.wheels = 6  # Changing class variable affects all instances\n",
        "print(car1.wheels)  # Output: 6\n",
        "print(car2.wheels)  # Output: 6\n",
        "\n",
        "car1.color = \"Green\"  # Changing instance variable affects only car1\n",
        "print(car1.color)  # Output: Green\n",
        "print(car2.color)  # Output: Blue\n",
        "```\n"
      ],
      "metadata": {
        "id": "QECh5xAywOml"
      }
    },
    {
      "cell_type": "markdown",
      "source": [
        "18. What is multiple inheritance in Python?\n",
        "->  **Multiple Inheritance in Python**  \n",
        "**Multiple Inheritance** is a feature in Python where a class can inherit from more than one parent class. This allows a child class to access the attributes and methods of multiple parent classes.\n",
        "\n",
        "### **Syntax:**\n",
        "```python\n",
        "class Parent1:\n",
        "    # Parent1 class code\n",
        "\n",
        "class Parent2:\n",
        "    # Parent2 class code\n",
        "\n",
        "class Child(Parent1, Parent2):  # Multiple inheritance\n",
        "    # Child class code\n",
        "```\n",
        "\n",
        "### **Example:**\n",
        "```python\n",
        "class Father:\n",
        "    def show_father(self):\n",
        "        print(\"Father's property\")\n",
        "\n",
        "class Mother:\n",
        "    def show_mother(self):\n",
        "        print(\"Mother's property\")\n",
        "\n",
        "class Child(Father, Mother):  # Multiple inheritance\n",
        "    def show_child(self):\n",
        "        print(\"Child's own property\")\n",
        "\n",
        "obj = Child()\n",
        "obj.show_father()  # Output: Father's property\n",
        "obj.show_mother()  # Output: Mother's property\n",
        "obj.show_child()   # Output: Child's own property\n",
        "```\n",
        "\n",
        "### **Key Points:**\n",
        "1. **Access to Multiple Parents** – The child class inherits all methods and attributes from both parent classes.\n",
        "2. **Code Reusability** – Avoids rewriting common functionalities.\n",
        "3. **Method Resolution Order (MRO)** – Python follows **C3 Linearization (MRO)** to decide method execution order.\n",
        "4. **Potential Conflicts** – If two parent classes have methods with the same name, Python follows MRO to resolve conflicts.\n"
      ],
      "metadata": {
        "id": "6vQs1tJPJ2vY"
      }
    },
    {
      "cell_type": "markdown",
      "source": [
        "19. Explain the purpose of ‘’__str__’ and ‘__repr__’ ‘ methods in Python.\n",
        "->  **Purpose of `__str__` and `__repr__` Methods in Python**  \n",
        "\n",
        "Both `__str__` and `__repr__` are special methods used to represent an object as a string.  \n",
        "\n",
        "| Method  | Purpose | When Used | Should Return |\n",
        "|---------|---------|-----------|--------------|\n",
        "| `__str__` | Provides a user-friendly (readable) string representation of an object. | Used when `print(object)` or `str(object)` is called. | A string meant for end-users. |\n",
        "| `__repr__` | Provides a detailed, unambiguous string representation (for debugging). | Used when `repr(object)` is called or when inspecting objects in interactive mode. | A string meant for developers, ideally a valid Python expression. |\n",
        "\n",
        "### **Example:**\n",
        "```python\n",
        "class Car:\n",
        "    def __init__(self, brand, model):\n",
        "        self.brand = brand\n",
        "        self.model = model\n",
        "\n",
        "    def __str__(self):\n",
        "        return f\"{self.brand} {self.model}\"  # User-friendly output\n",
        "\n",
        "    def __repr__(self):\n",
        "        return f\"Car('{self.brand}', '{self.model}')\"  # Debugging output\n",
        "\n",
        "car1 = Car(\"Toyota\", \"Corolla\")\n",
        "\n",
        "print(str(car1))   # Output: Toyota Corolla\n",
        "print(repr(car1))  # Output: Car('Toyota', 'Corolla')\n",
        "```\n",
        "\n",
        "### **Key Difference:**\n",
        "- Use `__str__` for a **human-readable** description.  \n",
        "- Use `__repr__` for a **developer-friendly** and unambiguous output."
      ],
      "metadata": {
        "id": "h5-Wm_4pKSsC"
      }
    },
    {
      "cell_type": "markdown",
      "source": [
        "20. What is the significance of the ‘super()’ function in Python?\n",
        "-> The `super()` function in Python is used to give access to methods and properties of a parent class from a child class. Its main significance includes:  \n",
        "\n",
        "1. **Calling Parent Class Methods** – It allows a subclass to call methods (like `__init__`) from its parent class without directly referring to the parent class name.  \n",
        "2. **Code Reusability** – Reduces code duplication by reusing the parent class's implementation.  \n",
        "3. **Supports Multiple Inheritance** – Ensures the correct method resolution order (MRO) when multiple parent classes are involved.  \n",
        "4. **Enhances Maintainability** – If the parent class changes, the child class automatically inherits the updated behavior without needing modifications.  \n",
        "\n",
        "Example:  \n",
        "```python\n",
        "class Parent:\n",
        "    def __init__(self, name):\n",
        "        self.name = name\n",
        "\n",
        "class Child(Parent):\n",
        "    def __init__(self, name, age):\n",
        "        super().__init__(name)  # Calls Parent's __init__\n",
        "        self.age = age\n",
        "\n",
        "c = Child(\"Rahul\", 20)\n",
        "print(c.name, c.age)  # Output: Rahul 20\n",
        "```  \n",
        "This ensures efficient and structured class inheritance in Python."
      ],
      "metadata": {
        "id": "m1lR94XKSN9I"
      }
    },
    {
      "cell_type": "markdown",
      "source": [
        "21. What is the significance of the __del__ method in Python?\n",
        "-> The `__del__` method in Python is a **destructor** that is called when an object is about to be destroyed. It is used for **automatic cleanup**, **memory management**, and **resource deallocation** (e.g., closing files or database connections). However, its execution depends on Python’s garbage collection, and circular references may delay its call."
      ],
      "metadata": {
        "id": "ByeFwpLstb-s"
      }
    },
    {
      "cell_type": "markdown",
      "source": [
        "22. What is the difference between @staticmethod and @classmethod in Python?\n",
        "-> The key differences between `@staticmethod` and `@classmethod` in Python are:  \n",
        "\n",
        "| Feature            | `@staticmethod`                          | `@classmethod`                          |\n",
        "|--------------------|---------------------------------|---------------------------------|\n",
        "| **Binding**       | Not bound to class or instance  | Bound to the class, not instance |\n",
        "| **First Parameter** | No `self` or `cls` required   | First parameter is `cls` (class reference) |\n",
        "| **Access to Class Data** | Cannot modify class attributes | Can modify class attributes |\n",
        "| **Use Case**       | Utility functions that don’t need class data | Factory methods or alternative constructors |\n",
        "\n",
        "### Example:\n",
        "```python\n",
        "class Demo:\n",
        "    class_var = \"Hello\"\n",
        "\n",
        "    @staticmethod\n",
        "    def static_method():\n",
        "        print(\"I am a static method.\")\n",
        "\n",
        "    @classmethod\n",
        "    def class_method(cls):\n",
        "        print(f\"I am a class method. Class var: {cls.class_var}\")\n",
        "\n",
        "Demo.static_method()  # No class reference\n",
        "Demo.class_method()   # Accesses class variable\n",
        "```\n",
        "**Output:**  \n",
        "```\n",
        "I am a static method.  \n",
        "I am a class method. Class var: Hello  \n",
        "```"
      ],
      "metadata": {
        "id": "EklJ4RG9tyaU"
      }
    },
    {
      "cell_type": "markdown",
      "source": [
        "23. How does polymorphism work in Python with inheritance?\n",
        "->  **Polymorphism with Inheritance in Python**  \n",
        "Polymorphism allows different classes to use the same method name with different behaviors. With **inheritance**, a child class can **override** a parent class method, and the method called is determined at **runtime**.\n",
        "\n",
        "### **Example:**  \n",
        "```python\n",
        "class Animal:\n",
        "    def sound(self):\n",
        "        return \"Some sound\"\n",
        "\n",
        "class Dog(Animal):\n",
        "    def sound(self):\n",
        "        return \"Bark\"\n",
        "\n",
        "animals = [Animal(), Dog()]\n",
        "for animal in animals:\n",
        "    print(animal.sound())  # Output: Some sound, Bark\n",
        "```\n",
        "### **Key Points:**  \n",
        "✔ **Same method, different behavior**  \n",
        "✔ **Enhances code reusability**  \n",
        "✔ **Method resolution happens at runtime**"
      ],
      "metadata": {
        "id": "EpBsVyYTubog"
      }
    },
    {
      "cell_type": "markdown",
      "source": [
        "24. What is method chaining in Python OOP?\n",
        "->  **Method Chaining in Python OOP**  \n",
        "Method chaining allows calling multiple methods on the same object in a **single statement** by returning `self` from each method.\n",
        "\n",
        "### **Example:**  \n",
        "```python\n",
        "class Demo:\n",
        "    def __init__(self, value):\n",
        "        self.value = value\n",
        "\n",
        "    def add(self, num):\n",
        "        self.value += num\n",
        "        return self  # Returns the object for chaining\n",
        "\n",
        "    def multiply(self, num):\n",
        "        self.value *= num\n",
        "        return self\n",
        "\n",
        "    def show(self):\n",
        "        print(self.value)\n",
        "        return self\n",
        "\n",
        "# Method chaining in action\n",
        "Demo(5).add(3).multiply(2).show()  # Output: 16\n",
        "```\n",
        "### **Key Points:**  \n",
        "✔ **Enhances code readability**  \n",
        "✔ **Reduces temporary variables**  \n",
        "✔ **Each method must return `self`**"
      ],
      "metadata": {
        "id": "WBjhgDZ-u4ut"
      }
    },
    {
      "cell_type": "markdown",
      "source": [
        "25. What is the purpose of the __call__ method in Python?\n",
        "->  **Purpose of the `__call__` Method in Python**  \n",
        "The `__call__` method allows an instance of a class to be called like a function. It makes objects **callable**, meaning they can behave like functions while maintaining state.\n",
        "\n",
        "### **Example:**  \n",
        "```python\n",
        "class Multiplier:\n",
        "    def __init__(self, factor):\n",
        "        self.factor = factor\n",
        "\n",
        "    def __call__(self, num):\n",
        "        return num * self.factor  # Enables calling the object like a function\n",
        "\n",
        "multiply_by_3 = Multiplier(3)\n",
        "print(multiply_by_3(5))  # Output: 15\n",
        "```\n",
        "### **Key Points:**  \n",
        "✔ **Makes objects callable like functions**  \n",
        "✔ **Allows stateful function-like behavior**  \n",
        "✔ **Useful for decorators, caching, and function objects**"
      ],
      "metadata": {
        "id": "AICyJTgK1MnQ"
      }
    },
    {
      "cell_type": "markdown",
      "source": [
        "#Practical Questions"
      ],
      "metadata": {
        "id": "gPnIJ0Ki3q-1"
      }
    },
    {
      "cell_type": "code",
      "source": [
        "#1. Create a parent class Animal with a method speak() that prints a generic message. Create a child class Dog that overrides the speak() method to print \"Bark!\".\n",
        "\n",
        "class Animal:\n",
        "    def speak(self):\n",
        "        print(\"Animal makes a sound\")\n",
        "\n",
        "class Dog(Animal):\n",
        "    def speak(self):\n",
        "        print(\"Bark!\")\n",
        "\n",
        "a = Animal()\n",
        "a.speak()\n",
        "\n",
        "d = Dog()\n",
        "d.speak()\n"
      ],
      "metadata": {
        "colab": {
          "base_uri": "https://localhost:8080/"
        },
        "id": "xAPya8xA8l-7",
        "outputId": "2b9d56f2-5e8b-4401-862a-f5dff29f8740"
      },
      "execution_count": 1,
      "outputs": [
        {
          "output_type": "stream",
          "name": "stdout",
          "text": [
            "Animal makes a sound\n",
            "Bark!\n"
          ]
        }
      ]
    },
    {
      "cell_type": "code",
      "source": [
        "#2. Write a program to create an abstract class Shape with a method area(). Derive classes Circle and Rectangle from it and implement the area() method in both\n",
        "\n",
        "from abc import ABC, abstractmethod\n",
        "import math\n",
        "\n",
        "class Shape(ABC):\n",
        "    @abstractmethod\n",
        "    def area(self):\n",
        "        pass\n",
        "\n",
        "class Circle(Shape):\n",
        "    def __init__(self, radius):\n",
        "        self.radius = radius\n",
        "\n",
        "    def area(self):\n",
        "        return math.pi * self.radius ** 2\n",
        "\n",
        "\n",
        "class Rectangle(Shape):\n",
        "    def __init__(self, length, width):\n",
        "        self.length = length\n",
        "        self.width = width\n",
        "\n",
        "    def area(self):\n",
        "        return self.length * self.width\n",
        "\n",
        "\n",
        "c = Circle(5)\n",
        "print(\"Circle Area:\", c.area())\n",
        "\n",
        "r = Rectangle(4, 6)\n",
        "print(\"Rectangle Area:\", r.area())\n"
      ],
      "metadata": {
        "colab": {
          "base_uri": "https://localhost:8080/"
        },
        "id": "TsOq_jc_9knG",
        "outputId": "eb9c4293-8245-41dc-a803-53fe0ff901c6"
      },
      "execution_count": 2,
      "outputs": [
        {
          "output_type": "stream",
          "name": "stdout",
          "text": [
            "Circle Area: 78.53981633974483\n",
            "Rectangle Area: 24\n"
          ]
        }
      ]
    },
    {
      "cell_type": "code",
      "source": [
        "#3. Implement a multi-level inheritance scenario where a class Vehicle has an attribute type. Derive a class Car and further derive a class ElectricCar that adds a battery attribute\n",
        "\n",
        "class Vehicle:\n",
        "    def __init__(self, type):\n",
        "        self.type = type\n",
        "\n",
        "    def show_type(self):\n",
        "        print(f\"Vehicle Type: {self.type}\")\n",
        "\n",
        "class Car(Vehicle):\n",
        "    def __init__(self, type, brand):\n",
        "        super().__init__(type)\n",
        "        self.brand = brand\n",
        "\n",
        "    def show_brand(self):\n",
        "        print(f\"Car Brand: {self.brand}\")\n",
        "\n",
        "class ElectricCar(Car):\n",
        "    def __init__(self, type, brand, battery_capacity):\n",
        "        super().__init__(type, brand)\n",
        "        self.battery_capacity = battery_capacity\n",
        "\n",
        "    def show_battery(self):\n",
        "        print(f\"Battery Capacity: {self.battery_capacity} kWh\")\n",
        "\n",
        "e_car = ElectricCar(\"Electric\", \"Tesla\", 75)\n",
        "e_car.show_type()\n",
        "e_car.show_brand()\n",
        "e_car.show_battery()\n"
      ],
      "metadata": {
        "colab": {
          "base_uri": "https://localhost:8080/"
        },
        "id": "deNz4_a8_L1b",
        "outputId": "2e72d3ce-f3ee-4399-ddbc-5cad4d061cf3"
      },
      "execution_count": 3,
      "outputs": [
        {
          "output_type": "stream",
          "name": "stdout",
          "text": [
            "Vehicle Type: Electric\n",
            "Car Brand: Tesla\n",
            "Battery Capacity: 75 kWh\n"
          ]
        }
      ]
    },
    {
      "cell_type": "code",
      "source": [
        "#4. Demonstrate polymorphism by creating a base class Bird with a method fly(). Create two derived classes Sparrow and Penguin that override the fly() method\n",
        "\n",
        "class Bird:\n",
        "    def fly(self):\n",
        "        print(\"Some birds can fly.\")\n",
        "\n",
        "class Sparrow(Bird):\n",
        "    def fly(self):\n",
        "        print(\"Sparrow flies high in the sky.\")\n",
        "\n",
        "class Penguin(Bird):\n",
        "    def fly(self):\n",
        "        print(\"Penguins cannot fly, they swim instead.\")\n",
        "\n",
        "birds = [Sparrow(), Penguin(), Bird()]\n",
        "\n",
        "for bird in birds:\n",
        "    bird.fly()\n"
      ],
      "metadata": {
        "colab": {
          "base_uri": "https://localhost:8080/"
        },
        "id": "2t_qLZNxBxWt",
        "outputId": "925d45b1-7380-48ca-e397-0cab20ff4e6e"
      },
      "execution_count": 4,
      "outputs": [
        {
          "output_type": "stream",
          "name": "stdout",
          "text": [
            "Sparrow flies high in the sky.\n",
            "Penguins cannot fly, they swim instead.\n",
            "Some birds can fly.\n"
          ]
        }
      ]
    },
    {
      "cell_type": "code",
      "source": [
        "#5. Write a program to demonstrate encapsulation by creating a class BankAccount with private attributes balance and methods to deposit, withdraw, and check balance.\n",
        "\n",
        "class BankAccount:\n",
        "    def __init__(self, initial_balance=0):\n",
        "        self.__balance = initial_balance\n",
        "\n",
        "    def deposit(self, amount):\n",
        "        if amount > 0:\n",
        "            self.__balance += amount\n",
        "            print(f\"Deposited: {amount}\")\n",
        "        else:\n",
        "            print(\"Invalid deposit amount.\")\n",
        "\n",
        "    def withdraw(self, amount):\n",
        "        if 0 < amount <= self.__balance:\n",
        "            self.__balance -= amount\n",
        "            print(f\"Withdrawn: {amount}\")\n",
        "        else:\n",
        "            print(\"Insufficient balance or invalid amount.\")\n",
        "\n",
        "    def check_balance(self):\n",
        "        print(f\"Current Balance: {self.__balance}\")\n",
        "\n",
        "\n",
        "account = BankAccount(1000)\n",
        "account.deposit(500)\n",
        "account.withdraw(300)\n",
        "account.check_balance()\n",
        "\n",
        "\n"
      ],
      "metadata": {
        "colab": {
          "base_uri": "https://localhost:8080/"
        },
        "id": "bJWFaFDSCjIU",
        "outputId": "39bc429d-8852-42d0-e8f2-05b92d83727d"
      },
      "execution_count": 5,
      "outputs": [
        {
          "output_type": "stream",
          "name": "stdout",
          "text": [
            "Deposited: 500\n",
            "Withdrawn: 300\n",
            "Current Balance: 1200\n"
          ]
        }
      ]
    },
    {
      "cell_type": "code",
      "source": [
        "#6.  Demonstrate runtime polymorphism using a method play() in a base class Instrument. Derive classes Guitar and Piano that implement their own version of play()\n",
        "\n",
        "class Instrument:\n",
        "    def play(self):\n",
        "        print(\"Playing an instrument.\")\n",
        "\n",
        "class Guitar(Instrument):\n",
        "    def play(self):\n",
        "        print(\"Strumming the guitar.\")\n",
        "\n",
        "class Piano(Instrument):\n",
        "    def play(self):\n",
        "        print(\"Playing the piano keys.\")\n",
        "\n",
        "\n",
        "instruments = [Guitar(), Piano(), Instrument()]\n",
        "\n",
        "for instrument in instruments:\n",
        "    instrument.play()\n"
      ],
      "metadata": {
        "colab": {
          "base_uri": "https://localhost:8080/"
        },
        "id": "B9RSK4GqFbzr",
        "outputId": "99c018d5-3539-493b-c419-3af4d0c6b4d0"
      },
      "execution_count": 6,
      "outputs": [
        {
          "output_type": "stream",
          "name": "stdout",
          "text": [
            "Strumming the guitar.\n",
            "Playing the piano keys.\n",
            "Playing an instrument.\n"
          ]
        }
      ]
    },
    {
      "cell_type": "code",
      "source": [
        "#7. Create a class MathOperations with a class method add_numbers() to add two numbers and a static method subtract_numbers() to subtract two numbers\n",
        "\n",
        "class MathOperations:\n",
        "    @classmethod\n",
        "    def add_numbers(cls, a, b):\n",
        "        return a + b\n",
        "\n",
        "    @staticmethod\n",
        "    def subtract_numbers(a, b):\n",
        "        return a - b\n",
        "\n",
        "print(\"Addition:\", MathOperations.add_numbers(5, 3))\n",
        "print(\"Subtraction:\", MathOperations.subtract_numbers(10, 4))\n"
      ],
      "metadata": {
        "colab": {
          "base_uri": "https://localhost:8080/"
        },
        "id": "-qLZlLT8GqtK",
        "outputId": "c759b651-5abf-4762-9f69-866ddeafefc7"
      },
      "execution_count": 7,
      "outputs": [
        {
          "output_type": "stream",
          "name": "stdout",
          "text": [
            "Addition: 8\n",
            "Subtraction: 6\n"
          ]
        }
      ]
    },
    {
      "cell_type": "code",
      "source": [
        "#8.  Implement a class Person with a class method to count the total number of persons created\n",
        "\n",
        "class Person:\n",
        "    count = 0\n",
        "\n",
        "    def __init__(self, name):\n",
        "        self.name = name\n",
        "        Person.count += 1\n",
        "\n",
        "    @classmethod\n",
        "    def total_persons(cls):\n",
        "        return f\"Total persons created: {cls.count}\"\n",
        "\n",
        "p1 = Person(\"Alice\")\n",
        "p2 = Person(\"Bob\")\n",
        "p3 = Person(\"Charlie\")\n",
        "\n",
        "print(Person.total_persons())\n"
      ],
      "metadata": {
        "colab": {
          "base_uri": "https://localhost:8080/"
        },
        "id": "k1H6_HS2HsIP",
        "outputId": "239e07d9-2d55-47a9-af5e-0118f3ba96ce"
      },
      "execution_count": 8,
      "outputs": [
        {
          "output_type": "stream",
          "name": "stdout",
          "text": [
            "Total persons created: 3\n"
          ]
        }
      ]
    },
    {
      "cell_type": "code",
      "source": [
        "#9. Write a class Fraction with attributes numerator and denominator. Override the str method to display the fraction as \"numerator/denominator\".\n",
        "\n",
        "class Fraction:\n",
        "    def __init__(self, numerator, denominator):\n",
        "        self.numerator = numerator\n",
        "        self.denominator = denominator\n",
        "\n",
        "    def __str__(self):\n",
        "        return f\"{self.numerator}/{self.denominator}\"\n",
        "\n",
        "f1 = Fraction(3, 4)\n",
        "f2 = Fraction(5, 8)\n",
        "\n",
        "print(f1)\n",
        "print(f2)\n"
      ],
      "metadata": {
        "colab": {
          "base_uri": "https://localhost:8080/"
        },
        "id": "HrQ_AhDYIEI8",
        "outputId": "2b93f01c-e17c-42e5-e06a-f2c9a65dc64d"
      },
      "execution_count": 9,
      "outputs": [
        {
          "output_type": "stream",
          "name": "stdout",
          "text": [
            "3/4\n",
            "5/8\n"
          ]
        }
      ]
    },
    {
      "cell_type": "code",
      "source": [
        "#10.  Demonstrate operator overloading by creating a class Vector and overriding the add method to add two vectors.\n",
        "\n",
        "class Vector:\n",
        "    def __init__(self, x, y):\n",
        "        self.x = x\n",
        "        self.y = y\n",
        "\n",
        "    def __add__(self, other):\n",
        "        return Vector(self.x + other.x, self.y + other.y)\n",
        "\n",
        "    def __str__(self):\n",
        "        return f\"({self.x}, {self.y})\"\n",
        "\n",
        "v1 = Vector(2, 3)\n",
        "v2 = Vector(4, 5)\n",
        "v3 = v1 + v2\n",
        "\n",
        "print(v3)"
      ],
      "metadata": {
        "colab": {
          "base_uri": "https://localhost:8080/"
        },
        "id": "Jb0b21egIUgC",
        "outputId": "fe44f4b4-0371-472d-b5ad-01742261677e"
      },
      "execution_count": 10,
      "outputs": [
        {
          "output_type": "stream",
          "name": "stdout",
          "text": [
            "(6, 8)\n"
          ]
        }
      ]
    },
    {
      "cell_type": "code",
      "source": [
        "#11. Create a class Person with attributes name and age. Add a method greet() that prints \"Hello, my name is {name} and I am {age} years old.\"\n",
        "\n",
        "class Person:\n",
        "    def __init__(self, name, age):\n",
        "        self.name = name\n",
        "        self.age = age\n",
        "\n",
        "    def greet(self):\n",
        "        print(f\"Hello, my name is {self.name} and I am {self.age} years old.\")\n",
        "\n",
        "p1 = Person(\"Alice\", 25)\n",
        "p1.greet()\n"
      ],
      "metadata": {
        "colab": {
          "base_uri": "https://localhost:8080/"
        },
        "id": "LGWTqCpSKzLQ",
        "outputId": "96b9cb4c-2e6a-4172-8b87-d91720fa2b4b"
      },
      "execution_count": 11,
      "outputs": [
        {
          "output_type": "stream",
          "name": "stdout",
          "text": [
            "Hello, my name is Alice and I am 25 years old.\n"
          ]
        }
      ]
    },
    {
      "cell_type": "code",
      "source": [
        "#12.  Implement a class Student with attributes name and grades. Create a method average_grade() to compute the average of the grades.\n",
        "\n",
        "class Student:\n",
        "    def __init__(self, name, grades):\n",
        "        self.name = name\n",
        "        self.grades = grades\n",
        "\n",
        "    def average_grade(self):\n",
        "        return sum(self.grades) / len(self.grades) if self.grades else 0\n",
        "\n",
        "s1 = Student(\"Alice\", [85, 90, 78, 92])\n",
        "print(f\"{s1.name}'s Average Grade: {s1.average_grade():.2f}\")\n"
      ],
      "metadata": {
        "colab": {
          "base_uri": "https://localhost:8080/"
        },
        "id": "FkjMeSBALa95",
        "outputId": "040fd91a-d3bd-4d96-cd27-0ceb7db9b2ef"
      },
      "execution_count": 12,
      "outputs": [
        {
          "output_type": "stream",
          "name": "stdout",
          "text": [
            "Alice's Average Grade: 86.25\n"
          ]
        }
      ]
    },
    {
      "cell_type": "code",
      "source": [
        "#13. Create a class Rectangle with methods set_dimensions() to set the dimensions and area() to calculate the area.\n",
        "\n",
        "class Rectangle:\n",
        "    def __init__(self):\n",
        "        self.length = 0\n",
        "        self.width = 0\n",
        "\n",
        "    def set_dimensions(self, length, width):\n",
        "        self.length = length\n",
        "        self.width = width\n",
        "\n",
        "    def area(self):\n",
        "        return self.length * self.width\n",
        "\n",
        "rect = Rectangle()\n",
        "rect.set_dimensions(5, 10)\n",
        "print(\"Area of Rectangle:\", rect.area())\n"
      ],
      "metadata": {
        "colab": {
          "base_uri": "https://localhost:8080/"
        },
        "id": "H1Lq6uEqLo0v",
        "outputId": "5c23c859-b456-44b9-cec6-dd60604b1182"
      },
      "execution_count": 13,
      "outputs": [
        {
          "output_type": "stream",
          "name": "stdout",
          "text": [
            "Area of Rectangle: 50\n"
          ]
        }
      ]
    },
    {
      "cell_type": "code",
      "source": [
        "#14. Create a class Employee with a method calculate_salary() that computes the salary based on hours worked and hourly rate. Create a derived class Manager that adds a bonus to the salary\n",
        "\n",
        "class Employee:\n",
        "    def __init__(self, name, hours_worked, hourly_rate):\n",
        "        self.name = name\n",
        "        self.hours_worked = hours_worked\n",
        "        self.hourly_rate = hourly_rate\n",
        "\n",
        "    def calculate_salary(self):\n",
        "        return self.hours_worked * self.hourly_rate\n",
        "\n",
        "class Manager(Employee):\n",
        "    def __init__(self, name, hours_worked, hourly_rate, bonus):\n",
        "        super().__init__(name, hours_worked, hourly_rate)\n",
        "        self.bonus = bonus\n",
        "\n",
        "    def calculate_salary(self):\n",
        "        return super().calculate_salary() + self.bonus\n",
        "\n",
        "emp = Employee(\"Alice\", 40, 20)\n",
        "print(f\"{emp.name}'s Salary: ${emp.calculate_salary()}\")\n",
        "\n",
        "mgr = Manager(\"Bob\", 40, 30, 500)\n",
        "print(f\"{mgr.name}'s Salary: ${mgr.calculate_salary()}\")\n"
      ],
      "metadata": {
        "colab": {
          "base_uri": "https://localhost:8080/"
        },
        "id": "f66UHZTCL1w7",
        "outputId": "2dfb5b75-91fc-46de-f7de-d966d93a711e"
      },
      "execution_count": 14,
      "outputs": [
        {
          "output_type": "stream",
          "name": "stdout",
          "text": [
            "Alice's Salary: $800\n",
            "Bob's Salary: $1700\n"
          ]
        }
      ]
    },
    {
      "cell_type": "code",
      "source": [
        "#15.  Create a class Product with attributes name, price, and quantity. Implement a method total_price() that calculates the total price of the product\n",
        "\n",
        "class Product:\n",
        "    def __init__(self, name, price, quantity):\n",
        "        self.name = name\n",
        "        self.price = price\n",
        "        self.quantity = quantity\n",
        "\n",
        "    def total_price(self):\n",
        "        return self.price * self.quantity\n",
        "\n",
        "p1 = Product(\"Laptop\", 800, 2)\n",
        "print(f\"Total price of {p1.name}: ${p1.total_price()}\")\n"
      ],
      "metadata": {
        "colab": {
          "base_uri": "https://localhost:8080/"
        },
        "id": "kifMH6X-MSYu",
        "outputId": "cb704b23-10bc-428c-a158-facbfe5a4e8b"
      },
      "execution_count": 15,
      "outputs": [
        {
          "output_type": "stream",
          "name": "stdout",
          "text": [
            "Total price of Laptop: $1600\n"
          ]
        }
      ]
    },
    {
      "cell_type": "code",
      "source": [
        "#16. Create a class Animal with an abstract method sound(). Create two derived classes Cow and Sheep that implement the sound() method.\n",
        "\n",
        "from abc import ABC, abstractmethod\n",
        "\n",
        "class Animal(ABC):\n",
        "    @abstractmethod\n",
        "    def sound(self):\n",
        "        pass\n",
        "\n",
        "class Cow(Animal):\n",
        "    def sound(self):\n",
        "        return \"Moo\"\n",
        "\n",
        "class Sheep(Animal):\n",
        "    def sound(self):\n",
        "        return \"Baa\"\n",
        "\n",
        "cow = Cow()\n",
        "sheep = Sheep()\n",
        "\n",
        "print(f\"Cow: {cow.sound()}\")\n",
        "print(f\"Sheep: {sheep.sound()}\")\n"
      ],
      "metadata": {
        "colab": {
          "base_uri": "https://localhost:8080/"
        },
        "id": "kUhqvgxtMuiy",
        "outputId": "b95d5fcc-6cb9-46d2-f4ae-09eca19446e8"
      },
      "execution_count": 16,
      "outputs": [
        {
          "output_type": "stream",
          "name": "stdout",
          "text": [
            "Cow: Moo\n",
            "Sheep: Baa\n"
          ]
        }
      ]
    },
    {
      "cell_type": "code",
      "source": [
        "#17. Create a class Book with attributes title, author, and year_published. Add a method get_book_info() that returns a formatted string with the book's details.\n",
        "\n",
        "class Book:\n",
        "    def __init__(self, title, author, year_published):\n",
        "        self.title = title\n",
        "        self.author = author\n",
        "        self.year_published = year_published\n",
        "\n",
        "    def get_book_info(self):\n",
        "        return f\"'{self.title}' by {self.author}, published in {self.year_published}.\"\n",
        "\n",
        "book1 = Book(\"To Kill a Mockingbird\", \"Harper Lee\", 1960)\n",
        "print(book1.get_book_info())\n"
      ],
      "metadata": {
        "colab": {
          "base_uri": "https://localhost:8080/"
        },
        "id": "_K6B4pc_M8AH",
        "outputId": "a7342536-692d-4708-b45d-59e0e5afaea4"
      },
      "execution_count": 17,
      "outputs": [
        {
          "output_type": "stream",
          "name": "stdout",
          "text": [
            "'To Kill a Mockingbird' by Harper Lee, published in 1960.\n"
          ]
        }
      ]
    },
    {
      "cell_type": "code",
      "source": [
        "#18. Create a class House with attributes address and price. Create a derived class Mansion that adds an attribute number_of_rooms.\n",
        "\n",
        "class House:\n",
        "    def __init__(self, address, price):\n",
        "        self.address = address\n",
        "        self.price = price\n",
        "\n",
        "    def get_info(self):\n",
        "        return f\"Address: {self.address}, Price: ${self.price}\"\n",
        "\n",
        "class Mansion(House):\n",
        "    def __init__(self, address, price, number_of_rooms):\n",
        "        super().__init__(address, price)\n",
        "        self.number_of_rooms = number_of_rooms\n",
        "\n",
        "    def get_info(self):\n",
        "        return f\"Address: {self.address}, Price: ${self.price}, Rooms: {self.number_of_rooms}\"\n",
        "\n",
        "house1 = House(\"123 Street, NY\", 250000)\n",
        "mansion1 = Mansion(\"456 Avenue, LA\", 5000000, 10)\n",
        "\n",
        "print(house1.get_info())\n",
        "print(mansion1.get_info())\n"
      ],
      "metadata": {
        "colab": {
          "base_uri": "https://localhost:8080/"
        },
        "id": "OIDOzdwpNXto",
        "outputId": "f8619390-dd15-41ff-ebf5-e80ea0e56309"
      },
      "execution_count": 18,
      "outputs": [
        {
          "output_type": "stream",
          "name": "stdout",
          "text": [
            "Address: 123 Street, NY, Price: $250000\n",
            "Address: 456 Avenue, LA, Price: $5000000, Rooms: 10\n"
          ]
        }
      ]
    }
  ]
}